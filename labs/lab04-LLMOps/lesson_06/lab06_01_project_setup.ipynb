{
 "cells": [
  {
   "cell_type": "markdown",
   "metadata": {},
   "source": [
    "Copyright (c) Microsoft Corporation. Licensed under the MIT license.\n",
    "\n",
    "##  Automating Everything\n",
    "\n",
    "In this lab, we will learn how to setup **LLMOps with Prompt Flow** template to deploy an end-to-end LLMOps solution using **Prompt Flow** and **Github Actions**.\n",
    "\n",
    "### Steps\n",
    "1. Check and set up prerequisites \n",
    "2. Create a Service principal\n",
    "3. Setup GitHub repository\n",
    "4. Create Azure OpenAI model deployment\n",
    "5. Update template configuration parameters"
   ]
  },
  {
   "cell_type": "markdown",
   "metadata": {},
   "source": [
    "### 1. Check and set up prerequisites\n",
    "\n",
    "Please ensure that you have the following resources in order to proceed with the hands-on steps:  \n",
    "   \n",
    "- An Azure subscription.  \n",
    "- An Azure AI Project and AI Resource.\n",
    "    - If you do not have an AI Project, please follow the instructions provided in [this link](https://learn.microsoft.com/en-us/azure/ai-studio/how-to/create-projects) to create one.  \n",
    "    - If this is your first AI project, create an AI Resource during the setup. Otherwise, utilize an existing one.  \n",
    "- A GitHub account.  \n",
    "- A workstation with the following options:  \n",
    "    - Option 1 - Local machine or VM equipped with the following tools:  \n",
    "        - [Git](https://git-scm.com/downloads) (usually pre-installed on most systems)  \n",
    "        - Python 3.10: [Download Python](https://www.python.org/downloads/release/python-31011/)  \n",
    "        - [VS Code](https://code.visualstudio.com/download) (Desktop version)  \n",
    "        - [Azure CLI](https://learn.microsoft.com/en-us/cli/azure/install-azure-cli)  \n",
    "        - **Important**: Since we will be utilizing bash commands, the operating system must be Windows with WSL, Linux, or MacOS.  \n",
    "    - Option 2 - Develop in VS Code for the Web by clicking in the \"Open project in VS Code (Web)\" button in the Azure AI Project.\n",
    "    \n",
    "    "
   ]
  },
  {
   "cell_type": "markdown",
   "metadata": {},
   "source": [
    "### 2. Create an Azure service principal to access AI project resources\n",
    "\n",
    "#### 2.1. Login to azure\n",
    "\n",
    "Log in to Azure so that you can execute the commands for the following steps."
   ]
  },
  {
   "cell_type": "code",
   "execution_count": null,
   "metadata": {},
   "outputs": [],
   "source": [
    "%%bash\n",
    "az login"
   ]
  },
  {
   "cell_type": "markdown",
   "metadata": {},
   "source": [
    "#### 2.2. Create Service Principal\n",
    "\n",
    "An Azure service principal (SP) is a special type of identity that can be used by automated tools to access Azure resources. \n",
    "\n",
    "We will use a service principal to grant GitHub Actions the permission to use the resources in our Azure subscription.\n",
    "\n",
    "Run the following bash script after updating the **\\<subscription_id\\>** placeholder with your subscription id.\n",
    "\n",
    "Note: The service principal name will be automatically generated in the format: LLMOps-(seconds since epoch). If you prefer a different name, you can specify it in the `spname` variable."
   ]
  },
  {
   "cell_type": "code",
   "execution_count": null,
   "metadata": {},
   "outputs": [],
   "source": [
    "%%bash\n",
    "\n",
    "# variables\n",
    "subscriptionId=\"<subscription_id>\"\n",
    "\n",
    "spname=\"LLMOps-$(date +%s)\"\n",
    "roleName=\"Owner\"\n",
    "servicePrincipalName=\"Azure-ARM-${spname}\"\n",
    "\n",
    "echo \"Using subscription ID $subscriptionID\"\n",
    "echo \"> Setting subscription id\"\n",
    "az account set --subscription $subscriptionId\n",
    "\n",
    "echo \"Creating SP for RBAC with name $servicePrincipalName, with role $roleName and in scopes /subscriptions/$subscriptionId\"\n",
    "az ad sp create-for-rbac --name $servicePrincipalName --role $roleName --scopes /subscriptions/$subscriptionId --sdk-auth\n",
    "\n",
    "echo \"Please ensure that the information created here is properly saved for future use.\""
   ]
  },
  {
   "cell_type": "markdown",
   "metadata": {},
   "source": [
    "After executing the script, you will receive the following information regarding the service principal.  \n",
    "   \n",
    "![llmops workshop](images/02.01.2024_15.49.11_REC.png)\n",
    "\n",
    "This is the information to be used for GitHub actions to authenticate in Azure.  \n",
    "   \n",
    "**Save it in a secure place**, as you will need it later for GitHub configuration."
   ]
  },
  {
   "cell_type": "markdown",
   "metadata": {},
   "source": [
    "### 3. Set up GitHub Repository\n",
    "\n",
    "#### 3.1. Create the repo for your project\n",
    "\n",
    "Go to GitHub and create a new repository\n",
    "\n",
    "*Github.com* > *New*\n",
    "\n",
    "![llmops workshop](images/31.12.2023_13.19.23_REC.png)\n",
    "\n",
    "Let's use **llmops-project** as the repo name for this workshop, if you chose a different repo name, you can replace llmops-project with the name you have chosen whenever you see it in the lab commands.\n",
    "\n",
    "![llmops workshop](images/31.12.2023_13.23.18_REC.png)\n",
    "\n",
    "\n",
    "#### 3.2. Create a GitHub personal access token\n",
    "\n",
    "Now you will create a Github **personal access token** to work with your repository from this notebook.\n",
    "\n",
    "Go to your GitHub account settings by clicking on your profile photo and then clicking on Settings and execute the following steps:\n",
    "\n",
    "1. In the left sidebar, click on Developer settings.\n",
    "2. In the left sidebar, click on Personal access tokens (Fine-grained tokens).\n",
    "3. Click on Generate new token.\n",
    "\n",
    "![llmops workshop](images/31.12.2023_13.27.45_REC.png)\n",
    "\n",
    "4. Choose the repo you just created in the Repository access section.\n",
    "\n",
    "![llmops workshop](images/31.12.2023_13.30.59_REC.png)\n",
    "\n",
    "5. In the Permissions session add **Read and write** to the following items: **Administation**, **Contents** and **Workflows** (Metadata is mandatory).\n",
    "\n",
    "![llmops workshop](images/31.12.2023_13.32.17_REC.png)\n",
    "\n",
    "6. Click on Generate token and **copy the token** to use it in the cell bellow.\n",
    "\n",
    "#### 3.3. Populate your repo with the LLMOps project template\n",
    "\n",
    "Now you will populate your new repo with the [LLMOps Prompt Flow Template Repo](https://github.com/microsoft/llmops-promptflow-template.git).\n",
    "\n",
    "In order to do that, run the following bash script, after update the **<github_org>** with your org name and **<github_pat>** with the token created above."
   ]
  },
  {
   "cell_type": "code",
   "execution_count": null,
   "metadata": {},
   "outputs": [],
   "source": [
    "%%bash\n",
    "\n",
    "github_org=<github_org>\n",
    "github_repo=llmops-project\n",
    "github_pat=<github_pat>\n",
    "\n",
    "echo \"> Cloning your project repository\"\n",
    "git clone https://${github_pat}@github.com/${github_org}/${github_repo}.git\n",
    "\n",
    "cd $github_repo\n",
    "\n",
    "echo \"> Adding a new remote named 'original'\"\n",
    "git remote add original https://github.com/microsoft/llmops-promptflow-template.git\n",
    "\n",
    "echo \"> Fetching from 'original'\"\n",
    "git fetch original main\n",
    "\n",
    "echo \"> Merging with 'original/main'\"\n",
    "git merge original/main\n",
    "\n",
    "echo \"> Pushing to 'origin main'\"\n",
    "git push origin main"
   ]
  },
  {
   "cell_type": "markdown",
   "metadata": {},
   "source": [
    "#### 3.4. Create a development branch and make it as default\n",
    "\n",
    "The project template assumes that the team utilizes the *development* branch as the primary source for coding and enhancing the prompt quality.  \n",
    "\n",
    "Create a *development* branch by branching off from the main branch and designate it as the default branch to ensure that all pull requests are directed towards it.  \n",
    "     \n",
    "To generate the *development* branch and set it as the default in the **local repository**, execute the following bash cell."
   ]
  },
  {
   "cell_type": "code",
   "execution_count": null,
   "metadata": {},
   "outputs": [],
   "source": [
    "%%bash\n",
    "github_repo=llmops-project\n",
    "\n",
    "# Change directory to the cloned repository\n",
    "cd ${github_repo}\n",
    "\n",
    "echo \"> Creating a development branch\"\n",
    "git checkout -b development\n",
    "\n",
    "echo \"> Pushing the development branch to the remote repository\"\n",
    "git push origin development"
   ]
  },
  {
   "cell_type": "markdown",
   "metadata": {},
   "source": [
    "To make *development* branch as default in the GitHub **remote repo**, go to your GitHub repository on the web and execute the following steps:\n",
    "\n",
    "1. Click on the \"Settings\" tab.\n",
    "2. In the left side menu, click on \"Branches\".\n",
    "3. In the \"Default branch\" section, click the pencil icon to edit.\n",
    "4. Select the branch you want to set as default from the dropdown menu.\n",
    "5. Click \"Update\" to save your changes.\n",
    "\n",
    "Remember, changing the default branch will change the base branch for new pull requests and code reviews.\n",
    "\n",
    "![llmops workshop](images/01.01.2024_10.57.37_REC.png)\n",
    "\n",
    "#### 3.5 Set up authentication with Azure and GitHub\n",
    "\n",
    "To start, go to the **Settings** tab of your GitHub project. Then, navigate to **Secrets and variables** followed by **Actions** and select **New repository secret**. \n",
    "\n",
    "![llmops workshop](images/01.01.2024_11.05.21_REC.png)\n",
    "\n",
    "Now, create a repository secret on GitHub called 'AZURE_CREDENTIALS' and provide the Azure Service Principal details you saved in step 2.1 as its content. \n",
    "\n",
    "![llmops workshop](images/01.01.2024_11.19.43_REC.png)\n",
    "\n",
    "For more information about it you can refer to [this document](https://learn.microsoft.com/en-us/azure/developer/github/connect-from-azure?tabs=azure-portal%2Clinux#use-the-azure-login-action-with-a-service-principal-secret).\n"
   ]
  },
  {
   "cell_type": "markdown",
   "metadata": {},
   "source": [
    "\n",
    "### 4. Create Azure OpenAI model deployment\n",
    "\n",
    "#### 4.1. Create model deployment\n",
    "\n",
    "The example flows in the LLMOps template utilize a deployment of the Azure OpenAI model called `gpt-35-turbo`.  \n",
    "   \n",
    "Please use Azure OpenAI Studio at [https://ai.azure.com/](https://ai.azure.com/) to create a deployment named `gpt-35-turbo` in the AI Project you set up during step 1 of this hands-on exercise.\n",
    "\n",
    "To do this, simply replicate what is shown in the next three images:\n",
    "\n",
    "![llmops workshop](images/01.01.2024_11.25.08_REC.png)\n",
    "\n",
    "![llmops workshop](images/01.01.2024_11.26.33_REC.png)\n",
    "\n",
    "![llmops workshop](images/01.01.2024_11.27.15_REC.png)\n",
    "\n"
   ]
  },
  {
   "cell_type": "markdown",
   "metadata": {},
   "source": [
    "#### 4.2. Update Azure OpenAI connection name\n",
    "\n",
    "LLMOps with Prompt flow project template example flows use an Azure OpenAI connection named ```aoai```, in this hands on we will use AI Project's default Azure OpenAI connection.\n",
    "\n",
    "Run the next cell to update **flow.dag.yaml** for both standard and post-production-evaluation flows of the **named_entity_recognition** example to use the AI Project's default Azure OpenAI connection.\n",
    "\n",
    "The flow definition file for both named_entity_recognition standard and post-production-evolution flows can be found inside the template project folder in:\n",
    "\n",
    "- named_entity_recognition\\flows\\standard\\flow.dag.yaml\n",
    "- named_entity_recognition\\flows\\post-production-evaluation\\flow.dag.yaml"
   ]
  },
  {
   "cell_type": "code",
   "execution_count": null,
   "metadata": {},
   "outputs": [],
   "source": [
    "import fileinput\n",
    "import sys\n",
    "\n",
    "github_repo=\"llmops-project\"\n",
    "\n",
    "def modify_file(filename):\n",
    "    with fileinput.FileInput(filename, inplace=True) as file:\n",
    "        for line in file:\n",
    "            sys.stdout.write(line.replace('connection: aoai', 'connection: Default_AzureOpenAI'))\n",
    "\n",
    "filenames = [f'{github_repo}/named_entity_recognition/flows/standard/flow.dag.yaml',\n",
    "             f'{github_repo}/named_entity_recognition/flows/post-production-evaluation/flow.dag.yaml']\n",
    "\n",
    "list(map(modify_file, filenames))"
   ]
  },
  {
   "cell_type": "markdown",
   "metadata": {},
   "source": [
    "### 5: Update Template Configuration Parameters  \n",
    "   \n",
    "The **LLMOps with Prompt Flow** template repo include three example use cases, we will focus on the **named_entity_recognition** one.\n",
    "\n",
    "In this step, you will configure the name_entity_recognition flow's LLMOps and deployment parameters.\n",
    "\n",
    "After that we will be able to create a pull request for this example.\n",
    "\n",
    "#### 5.1. Update flow's llmops parameters\n",
    "\n",
    "The file **llmops_config.json** contains information related to the resources and directories used in each environment.  \n",
    "   \n",
    "Navigate to the **named_entity_recognition** folder and open the **llmops_config.json** file, note that the parameters `KEYVAULT_NAME`, `RESOURCE_GROUP_NAME`, and `WORKSPACE_NAME` will be blank.  \n",
    "   \n",
    "Update them respectively with the name of the key vault, resource group, and AI project name created in step 1 of this lab.  \n",
    "\n",
    "For simplicity, we will use the same resources for all environments.\n",
    "\n",
    "Example configuration:\n",
    "\n",
    "![llmops workshop](images/16.01.2024_23.13.29_REC.png)\n",
    "\n",
    "For more information about the llmops_config.json parameters look at [llmops_config.json](markdown/llmops_config.md)\n",
    "\n",
    "#### 5.2. Update flow's deployment parameters\n",
    "\n",
    "The file **deployment_config.json** contains information related to the solution deployment.  \n",
    "   \n",
    "Navigate to the **named_entity_recognition** folder and open the **configs/deployment_config.json** file.\n",
    "\n",
    "Update the `ENDPOINT_NAME` and `CURRENT_DEPLOYMENT_NAME` parameters. \n",
    "\n",
    "For more information about the deployment_config.json parameters look at [deployment_config.json](markdown/deployment_config.md)\n",
    "\n",
    "**deployment_config.json**\n",
    "\n",
    "Modify the configuration values in the `deployment_config.json` file in the azure_managed_endpoint section for the **dev** environment. \n",
    "\n",
    "During this lab we'll only use the **dev** environment, so no need to worry about the other environments.\n",
    "\n",
    "Example configuration:\n",
    "\n",
    "![llmops workshop](images/01.01.2024_16.33.50_REC.png)\n",
    "\n",
    "#### 5.3. Push updates to remote repo\n",
    "\n",
    "To update the remote repository with the newly modified configurations, simply update the project repo name in **<github_repository>** and then push to the **development** branch by executing the next cell.\n",
    "\n"
   ]
  },
  {
   "cell_type": "code",
   "execution_count": null,
   "metadata": {},
   "outputs": [],
   "source": [
    "%%bash\n",
    "cd llmops-project\n",
    "git add .\n",
    "git commit -m \"configuration update\"\n",
    "git push origin development"
   ]
  }
 ],
 "metadata": {
  "kernelspec": {
   "display_name": "workshop",
   "language": "python",
   "name": "python3"
  },
  "language_info": {
   "codemirror_mode": {
    "name": "ipython",
    "version": 3
   },
   "file_extension": ".py",
   "mimetype": "text/x-python",
   "name": "python",
   "nbconvert_exporter": "python",
   "pygments_lexer": "ipython3",
   "version": "3.10.13"
  }
 },
 "nbformat": 4,
 "nbformat_minor": 2
}
