{
 "cells": [
  {
   "cell_type": "markdown",
   "metadata": {},
   "source": [
    "Copyright (c) Microsoft Corporation. Licensed under the MIT license.\n",
    "\n",
    "##  Automating Everything\n",
    "\n",
    "In this stage, you already have your project configured and will make a change in the flow. \n",
    "\n",
    "To do this, simply follow these steps:\n",
    "\n",
    "### Steps\n",
    "\n",
    "1. Create a new feature branch.\n",
    "2. Change something in your flow.\n",
    "3. Update feature branch.\n",
    "4. Create a Pull Request from feature branch to development branch.\n",
    "5. Review and approve the PR for the new feature.\n",
    "6. Check CI pipeline execution.\n",
    "7. Check CD pipeline execution.\n",
    "\n",
    "### 1. Create a new feature branch.\n",
    "\n",
    "In order to do that, run the following bash script."
   ]
  },
  {
   "cell_type": "code",
   "execution_count": null,
   "metadata": {},
   "outputs": [],
   "source": [
    "%%bash\n",
    "\n",
    "# Change directory to the cloned repository\n",
    "cd llmops-project\n",
    "\n",
    "echo \"> Creating a feature branch\"\n",
    "git checkout -b feature-ABCD\n",
    "\n",
    "echo \"> Pushing the development branch to the remote repository\"\n",
    "git push origin feature-ABCD"
   ]
  },
  {
   "cell_type": "markdown",
   "metadata": {},
   "source": [
    "### 2. Change something in your flow.\n",
    "\n",
    "In this step, make a change in the entity_extraction flow, such as renaming one of the nodes.\n",
    "\n",
    "### 3. Update feature branch.\n",
    "\n",
    "In order to do that, run the following bash script.\n"
   ]
  },
  {
   "cell_type": "code",
   "execution_count": null,
   "metadata": {},
   "outputs": [],
   "source": [
    "%%bash\n",
    "cd llmops-project\n",
    "git add .\n",
    "git commit -m \"updating config\"\n",
    "git push origin feature-ABCD"
   ]
  },
  {
   "cell_type": "markdown",
   "metadata": {},
   "source": [
    "### 4. Create a Pull Request from the feature branch to the development branch.  \n",
    "   \n",
    "Go to the project repository on GitHub.com to create the pull request.\n",
    "   \n",
    "![llmops workshop](images/09.01.2024_23.54.37_REC.png)  \n",
    "   \n",
    "![llmops workshop](images/09.01.2024_23.56.21_REC.png)\n",
    "\n",
    "After creating the Pull Request, you will notice that the Pull Request flow has been initiated.\n",
    "\n",
    "![llmops workshop](images/09.01.2024_23.58.24_REC.png)\n",
    "\n",
    "### 5. Review and approve the PR for the new feature.  \n",
    "   \n",
    "![llmops workshop](images/10.01.2024_00.17.52_REC.png)\n",
    "   \n",
    "### 6. Check CI pipeline execution.  \n",
    "   \n",
    "Check the execution of the CI pipeline in the GitHub actions option.  \n",
    "\n",
    "![llmops workshop](images/10.01.2024_00.27.51_REC.png)\n",
    "\n",
    "### 7. Check CD pipeline execution.  \n",
    "   \n",
    "Check the execution of the deployment pipeline in the GitHub actions option.  \n",
    "\n",
    "![llmops workshop](images/10.01.2024_00.35.42_REC.png)\n",
    "   \n",
    "Click on each of the pipelines to view the log and the artifacts with the results of the evaluations.\n",
    "\n",
    "Lab is now completed."
   ]
  }
 ],
 "metadata": {
  "kernelspec": {
   "display_name": "workshop",
   "language": "python",
   "name": "python3"
  },
  "language_info": {
   "codemirror_mode": {
    "name": "ipython",
    "version": 3
   },
   "file_extension": ".py",
   "mimetype": "text/x-python",
   "name": "python",
   "nbconvert_exporter": "python",
   "pygments_lexer": "ipython3",
   "version": "3.10.13"
  }
 },
 "nbformat": 4,
 "nbformat_minor": 2
}
